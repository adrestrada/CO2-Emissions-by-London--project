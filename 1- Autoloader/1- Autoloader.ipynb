{
 "cells": [
  {
   "cell_type": "markdown",
   "metadata": {
    "application/vnd.databricks.v1+cell": {
     "cellMetadata": {},
     "inputWidgets": {},
     "nuid": "04f4ba57-43f6-4a3c-8497-8819b31797c1",
     "showTitle": false,
     "tableResultSettingsMap": {},
     "title": ""
    }
   },
   "source": [
    "# Incremental Data Loading using AutoLoader\n",
    "- **Autoloader** --> \n",
    "✅ directory listing \n",
    "✅ file notification \n"
   ]
  },
  {
   "cell_type": "code",
   "execution_count": 0,
   "metadata": {
    "application/vnd.databricks.v1+cell": {
     "cellMetadata": {
      "byteLimit": 2048000,
      "implicitDf": true,
      "rowLimit": 10000
     },
     "collapsed": true,
     "inputWidgets": {},
     "nuid": "7317d0f6-65b7-42f1-bd56-e6f8196a675f",
     "showTitle": false,
     "tableResultSettingsMap": {},
     "title": ""
    }
   },
   "outputs": [
    {
     "output_type": "display_data",
     "data": {
      "text/html": [
       "<style scoped>\n",
       "  .table-result-container {\n",
       "    max-height: 300px;\n",
       "    overflow: auto;\n",
       "  }\n",
       "  table, th, td {\n",
       "    border: 1px solid black;\n",
       "    border-collapse: collapse;\n",
       "  }\n",
       "  th, td {\n",
       "    padding: 5px;\n",
       "  }\n",
       "  th {\n",
       "    text-align: left;\n",
       "  }\n",
       "</style><div class='table-result-container'><table class='table-result'><thead style='background-color: white'><tr></tr></thead><tbody></tbody></table></div>"
      ]
     },
     "metadata": {
      "application/vnd.databricks.v1+output": {
       "addedWidgets": {},
       "aggData": [],
       "aggError": "",
       "aggOverflow": false,
       "aggSchema": [],
       "aggSeriesLimitReached": false,
       "aggType": "",
       "arguments": {},
       "columnCustomDisplayInfos": {},
       "data": [],
       "datasetInfos": [],
       "dbfsResultPath": null,
       "isJsonSchema": true,
       "metadata": {
        "dataframeName": null
       },
       "overflow": false,
       "plotOptions": {
        "customPlotOptions": {},
        "displayType": "table",
        "pivotAggregation": null,
        "pivotColumns": null,
        "xColumns": null,
        "yColumns": null
       },
       "removedWidgets": [],
       "schema": [],
       "type": "table"
      }
     },
     "output_type": "display_data"
    }
   ],
   "source": [
    "%sql\n",
    "CREATE SCHEMA Carbon_catalog.net_schema;"
   ]
  },
  {
   "cell_type": "code",
   "execution_count": 0,
   "metadata": {
    "application/vnd.databricks.v1+cell": {
     "cellMetadata": {
      "byteLimit": 2048000,
      "rowLimit": 10000
     },
     "inputWidgets": {},
     "nuid": "64935233-5c61-46d9-98fe-1d2568fac811",
     "showTitle": false,
     "tableResultSettingsMap": {},
     "title": ""
    }
   },
   "outputs": [],
   "source": [
    "checkpoint_location = \"abfss://silver@storagecarbonproject.dfs.core.windows.net/checkpoint\" #checkpoint path"
   ]
  },
  {
   "cell_type": "code",
   "execution_count": 0,
   "metadata": {
    "application/vnd.databricks.v1+cell": {
     "cellMetadata": {
      "byteLimit": 2048000,
      "rowLimit": 10000
     },
     "inputWidgets": {},
     "nuid": "ad8bc75a-8f46-4438-9f99-87fd28a1bd22",
     "showTitle": false,
     "tableResultSettingsMap": {},
     "title": ""
    }
   },
   "outputs": [],
   "source": [
    "df = spark.readStream\\\n",
    "  .format(\"cloudFiles\")\\\n",
    "  .option(\"cloudFiles.format\", \"csv\")\\\n",
    "  .option(\"cloudFiles.schemaLocation\",checkpoint_location)\\\n",
    "  .load(\"abfss://raw@storagecarbonproject.dfs.core.windows.net/\") #cargando datos desde raw (archivo .csv de origen)"
   ]
  },
  {
   "cell_type": "code",
   "execution_count": 0,
   "metadata": {
    "application/vnd.databricks.v1+cell": {
     "cellMetadata": {
      "byteLimit": 2048000,
      "rowLimit": 10000
     },
     "collapsed": true,
     "inputWidgets": {},
     "nuid": "ccab02e7-5e91-47e1-bac9-4b61b98ff5af",
     "showTitle": false,
     "tableResultSettingsMap": {},
     "title": ""
    }
   },
   "outputs": [
    {
     "output_type": "display_data",
     "data": {
      "text/html": [
       "<style scoped>\n",
       "  .table-result-container {\n",
       "    max-height: 300px;\n",
       "    overflow: auto;\n",
       "  }\n",
       "  table, th, td {\n",
       "    border: 1px solid black;\n",
       "    border-collapse: collapse;\n",
       "  }\n",
       "  th, td {\n",
       "    padding: 5px;\n",
       "  }\n",
       "  th {\n",
       "    text-align: left;\n",
       "  }\n",
       "</style><div class='table-result-container'><table class='table-result'><thead style='background-color: white'><tr><th>Name</th><th>Carbon Dioxide Emissions</th><th>_rescued_data</th></tr></thead><tbody><tr><td>ShortName</td><td>CO2 Emissions</td><td>{\"_c11\":\"\",\"_c3\":\"\",\"_c5\":\"\",\"_c10\":\"\",\"_c4\":\"\",\"_c9\":\"\",\"_c8\":\"\",\"_file_path\":\"abfss://raw@storagecarbonproject.dfs.core.windows.net/carbon-emissions-borough.csv\",\"_c7\":\"\",\"_c2\":\"\",\"_c6\":\"\"}</td></tr><tr><td>null</td><td>null</td><td>{\"_c11\":\"\",\"_c3\":\"\",\"_c5\":\"\",\"_c10\":\"\",\"_c4\":\"\",\"_c9\":\"\",\"_c8\":\"\",\"_file_path\":\"abfss://raw@storagecarbonproject.dfs.core.windows.net/carbon-emissions-borough.csv\",\"_c7\":\"\",\"_c2\":\"\",\"_c6\":\"\"}</td></tr><tr><td>null</td><td>null</td><td>{\"_c11\":\"\",\"_c3\":\"\",\"_c5\":\"\",\"_c10\":\"\",\"_c4\":\"\",\"_c9\":\"\",\"_c8\":\"\",\"_file_path\":\"abfss://raw@storagecarbonproject.dfs.core.windows.net/carbon-emissions-borough.csv\",\"_c7\":\"\",\"_c2\":\"\",\"_c6\":\"\"}</td></tr><tr><td>null</td><td>null</td><td>{\"_c11\":\"\",\"_c3\":\"\",\"_c5\":\"\",\"_c10\":\"\",\"_c4\":\"\",\"_c9\":\"\",\"_c8\":\"\",\"_file_path\":\"abfss://raw@storagecarbonproject.dfs.core.windows.net/carbon-emissions-borough.csv\",\"_c7\":\"\",\"_c2\":\"\",\"_c6\":\"\"}</td></tr><tr><td>Theme</td><td>Environment</td><td>{\"_c11\":\"\",\"_c3\":\"\",\"_c5\":\"\",\"_c10\":\"\",\"_c4\":\"\",\"_c9\":\"\",\"_c8\":\"\",\"_file_path\":\"abfss://raw@storagecarbonproject.dfs.core.windows.net/carbon-emissions-borough.csv\",\"_c7\":\"\",\"_c2\":\"\",\"_c6\":\"\"}</td></tr><tr><td>Sub-theme</td><td>Air</td><td>{\"_c11\":\"\",\"_c3\":\"\",\"_c5\":\"\",\"_c10\":\"\",\"_c4\":\"\",\"_c9\":\"\",\"_c8\":\"\",\"_file_path\":\"abfss://raw@storagecarbonproject.dfs.core.windows.net/carbon-emissions-borough.csv\",\"_c7\":\"\",\"_c2\":\"\",\"_c6\":\"\"}</td></tr><tr><td>null</td><td>null</td><td>{\"_c11\":\"\",\"_c3\":\"\",\"_c5\":\"\",\"_c10\":\"\",\"_c4\":\"\",\"_c9\":\"\",\"_c8\":\"\",\"_file_path\":\"abfss://raw@storagecarbonproject.dfs.core.windows.net/carbon-emissions-borough.csv\",\"_c7\":\"\",\"_c2\":\"\",\"_c6\":\"\"}</td></tr><tr><td>Title</td><td>Carbon Dioxide Emissions</td><td>{\"_c11\":\"\",\"_c3\":\"\",\"_c5\":\"\",\"_c10\":\"\",\"_c4\":\"\",\"_c9\":\"\",\"_c8\":\"\",\"_file_path\":\"abfss://raw@storagecarbonproject.dfs.core.windows.net/carbon-emissions-borough.csv\",\"_c7\":\"\",\"_c2\":\"\",\"_c6\":\"\"}</td></tr><tr><td>Description</td><td>Local and Regional CO2 Emissions Estimates for 2005-2011 plus, subset data of CO2 emissions within the scope of influence of Local Authorities (previously called National Indicator 186: Per capita CO2 emissions in the LA area) by sector</td><td>{\"_c11\":\"\",\"_c3\":\"\",\"_c5\":\"\",\"_c10\":\"\",\"_c4\":\"\",\"_c9\":\"\",\"_c8\":\"\",\"_file_path\":\"abfss://raw@storagecarbonproject.dfs.core.windows.net/carbon-emissions-borough.csv\",\"_c7\":\"\",\"_c2\":\"\",\"_c6\":\"\"}</td></tr><tr><td>Subject</td><td>Emissions</td><td>{\"_c11\":\"\",\"_c3\":\"\",\"_c5\":\"\",\"_c10\":\"\",\"_c4\":\"\",\"_c9\":\"\",\"_c8\":\"\",\"_file_path\":\"abfss://raw@storagecarbonproject.dfs.core.windows.net/carbon-emissions-borough.csv\",\"_c7\":\"\",\"_c2\":\"\",\"_c6\":\"\"}</td></tr><tr><td>Subject.keyword</td><td>Emissions, Carbon Dioxide, Global Warming, climate change, fuel</td><td>{\"_c11\":\"\",\"_c3\":\"\",\"_c5\":\"\",\"_c10\":\"\",\"_c4\":\"\",\"_c9\":\"\",\"_c8\":\"\",\"_file_path\":\"abfss://raw@storagecarbonproject.dfs.core.windows.net/carbon-emissions-borough.csv\",\"_c7\":\"\",\"_c2\":\"\",\"_c6\":\"\"}</td></tr><tr><td>Publisher</td><td>DECC</td><td>{\"_c11\":\"\",\"_c3\":\"\",\"_c5\":\"\",\"_c10\":\"\",\"_c4\":\"\",\"_c9\":\"\",\"_c8\":\"\",\"_file_path\":\"abfss://raw@storagecarbonproject.dfs.core.windows.net/carbon-emissions-borough.csv\",\"_c7\":\"\",\"_c2\":\"\",\"_c6\":\"\"}</td></tr><tr><td>Date.available</td><td>2005-2013</td><td>{\"_c11\":\"\",\"_c3\":\"\",\"_c5\":\"\",\"_c10\":\"\",\"_c4\":\"\",\"_c9\":\"\",\"_c8\":\"\",\"_file_path\":\"abfss://raw@storagecarbonproject.dfs.core.windows.net/carbon-emissions-borough.csv\",\"_c7\":\"\",\"_c2\":\"\",\"_c6\":\"\"}</td></tr><tr><td>Creator</td><td>AEA</td><td>{\"_c11\":\"\",\"_c3\":\"\",\"_c5\":\"\",\"_c10\":\"\",\"_c4\":\"\",\"_c9\":\"\",\"_c8\":\"\",\"_file_path\":\"abfss://raw@storagecarbonproject.dfs.core.windows.net/carbon-emissions-borough.csv\",\"_c7\":\"\",\"_c2\":\"\",\"_c6\":\"\"}</td></tr><tr><td>Date.created</td><td>Oct 16</td><td>{\"_c11\":\"\",\"_c3\":\"\",\"_c5\":\"\",\"_c10\":\"\",\"_c4\":\"\",\"_c9\":\"\",\"_c8\":\"\",\"_file_path\":\"abfss://raw@storagecarbonproject.dfs.core.windows.net/carbon-emissions-borough.csv\",\"_c7\":\"\",\"_c2\":\"\",\"_c6\":\"\"}</td></tr><tr><td>Coverage.spatial</td><td>London Boroughs</td><td>{\"_c11\":\"\",\"_c3\":\"\",\"_c5\":\"\",\"_c10\":\"\",\"_c4\":\"\",\"_c9\":\"\",\"_c8\":\"\",\"_file_path\":\"abfss://raw@storagecarbonproject.dfs.core.windows.net/carbon-emissions-borough.csv\",\"_c7\":\"\",\"_c2\":\"\",\"_c6\":\"\"}</td></tr><tr><td>Coverage.temporal</td><td>Annual</td><td>{\"_c11\":\"\",\"_c3\":\"\",\"_c5\":\"\",\"_c10\":\"\",\"_c4\":\"\",\"_c9\":\"\",\"_c8\":\"\",\"_file_path\":\"abfss://raw@storagecarbonproject.dfs.core.windows.net/carbon-emissions-borough.csv\",\"_c7\":\"\",\"_c2\":\"\",\"_c6\":\"\"}</td></tr><tr><td>Type</td><td>Survey</td><td>{\"_c11\":\"\",\"_c3\":\"\",\"_c5\":\"\",\"_c10\":\"\",\"_c4\":\"\",\"_c9\":\"\",\"_c8\":\"\",\"_file_path\":\"abfss://raw@storagecarbonproject.dfs.core.windows.net/carbon-emissions-borough.csv\",\"_c7\":\"\",\"_c2\":\"\",\"_c6\":\"\"}</td></tr><tr><td>Language</td><td>English</td><td>{\"_c11\":\"\",\"_c3\":\"\",\"_c5\":\"\",\"_c10\":\"\",\"_c4\":\"\",\"_c9\":\"\",\"_c8\":\"\",\"_file_path\":\"abfss://raw@storagecarbonproject.dfs.core.windows.net/carbon-emissions-borough.csv\",\"_c7\":\"\",\"_c2\":\"\",\"_c6\":\"\"}</td></tr><tr><td>Rights</td><td>Crown Copyright</td><td>{\"_c11\":\"\",\"_c3\":\"\",\"_c5\":\"\",\"_c10\":\"\",\"_c4\":\"\",\"_c9\":\"\",\"_c8\":\"\",\"_file_path\":\"abfss://raw@storagecarbonproject.dfs.core.windows.net/carbon-emissions-borough.csv\",\"_c7\":\"\",\"_c2\":\"\",\"_c6\":\"\"}</td></tr><tr><td>More info</td><td>https://www.gov.uk/government/publications/local-authority-emissions-estimates</td><td>{\"_c11\":\"\",\"_c3\":\"\",\"_c5\":\"\",\"_c10\":\"\",\"_c4\":\"\",\"_c9\":\"\",\"_c8\":\"\",\"_file_path\":\"abfss://raw@storagecarbonproject.dfs.core.windows.net/carbon-emissions-borough.csv\",\"_c7\":\"\",\"_c2\":\"\",\"_c6\":\"\"}</td></tr><tr><td>Download from</td><td>null</td><td>{\"_c11\":\"\",\"_c3\":\"\",\"_c5\":\"\",\"_c10\":\"\",\"_c4\":\"\",\"_c9\":\"\",\"_c8\":\"\",\"_file_path\":\"abfss://raw@storagecarbonproject.dfs.core.windows.net/carbon-emissions-borough.csv\",\"_c7\":\"\",\"_c2\":\"\",\"_c6\":\"\"}</td></tr><tr><td>Measure</td><td>Kilotonnes of Carbon Dioxide (kt CO2)</td><td>{\"_c11\":\"\",\"_c3\":\"\",\"_c5\":\"\",\"_c10\":\"\",\"_c4\":\"\",\"_c9\":\"\",\"_c8\":\"\",\"_file_path\":\"abfss://raw@storagecarbonproject.dfs.core.windows.net/carbon-emissions-borough.csv\",\"_c7\":\"\",\"_c2\":\"\",\"_c6\":\"\"}</td></tr><tr><td>Warnings/Notes</td><td>Estimates of total CO2 emissions, and emissions per capita of population, both on an end-user basis.</td><td>{\"_c11\":\"\",\"_c3\":\"\",\"_c5\":\"\",\"_c10\":\"\",\"_c4\":\"\",\"_c9\":\"\",\"_c8\":\"\",\"_file_path\":\"abfss://raw@storagecarbonproject.dfs.core.windows.net/carbon-emissions-borough.csv\",\"_c7\":\"\",\"_c2\":\"\",\"_c6\":\"\"}</td></tr><tr><td>null</td><td>The subset data represents carbon dioxide emissions within the scope of influence of Local Authorities. This dataset was used to report progress against National Indicator 186.  The full dataset includes all the emissions that occur within the boundaries of each local authority; however, the dataset of emissions within the scope of LAs  excludes certain emissions, which it has been considered local authorities are unable to directly influence.</td><td>{\"_c11\":\"\",\"_c3\":\"\",\"_c5\":\"\",\"_c10\":\"\",\"_c4\":\"\",\"_c9\":\"\",\"_c8\":\"\",\"_file_path\":\"abfss://raw@storagecarbonproject.dfs.core.windows.net/carbon-emissions-borough.csv\",\"_c7\":\"\",\"_c2\":\"\",\"_c6\":\"\"}</td></tr><tr><td>null</td><td>All figures (2005-2008) supersede those published in September 2010.</td><td>{\"_c11\":\"\",\"_c3\":\"\",\"_c5\":\"\",\"_c10\":\"\",\"_c4\":\"\",\"_c9\":\"\",\"_c8\":\"\",\"_file_path\":\"abfss://raw@storagecarbonproject.dfs.core.windows.net/carbon-emissions-borough.csv\",\"_c7\":\"\",\"_c2\":\"\",\"_c6\":\"\"}</td></tr><tr><td>null</td><td>null</td><td>{\"_c11\":\"\",\"_c3\":\"\",\"_c5\":\"\",\"_c10\":\"\",\"_c4\":\"\",\"_c9\":\"\",\"_c8\":\"\",\"_file_path\":\"abfss://raw@storagecarbonproject.dfs.core.windows.net/carbon-emissions-borough.csv\",\"_c7\":\"\",\"_c2\":\"\",\"_c6\":\"\"}</td></tr><tr><td>null</td><td>null</td><td>{\"_c11\":\"\",\"_c3\":\"\",\"_c5\":\"\",\"_c10\":\"\",\"_c4\":\"\",\"_c9\":\"\",\"_c8\":\"\",\"_file_path\":\"abfss://raw@storagecarbonproject.dfs.core.windows.net/carbon-emissions-borough.csv\",\"_c7\":\"\",\"_c2\":\"\",\"_c6\":\"\"}</td></tr><tr><td>Next release</td><td>Jun 17</td><td>{\"_c11\":\"\",\"_c3\":\"\",\"_c5\":\"\",\"_c10\":\"\",\"_c4\":\"\",\"_c9\":\"\",\"_c8\":\"\",\"_file_path\":\"abfss://raw@storagecarbonproject.dfs.core.windows.net/carbon-emissions-borough.csv\",\"_c7\":\"\",\"_c2\":\"\",\"_c6\":\"\"}</td></tr><tr><td>null</td><td>null</td><td>{\"_c11\":\"\",\"_c3\":\"\",\"_c5\":\"\",\"_c10\":\"\",\"_c4\":\"\",\"_c9\":\"\",\"_c8\":\"\",\"_file_path\":\"abfss://raw@storagecarbonproject.dfs.core.windows.net/carbon-emissions-borough.csv\",\"_c7\":\"\",\"_c2\":\"\",\"_c6\":\"\"}</td></tr><tr><td>null</td><td>null</td><td>{\"_c11\":\"\",\"_c3\":\"\",\"_c5\":\"\",\"_c10\":\"\",\"_c4\":\"\",\"_c9\":\"\",\"_c8\":\"\",\"_file_path\":\"abfss://raw@storagecarbonproject.dfs.core.windows.net/carbon-emissions-borough.csv\",\"_c7\":\"\",\"_c2\":\"\",\"_c6\":\"\"}</td></tr><tr><td>null</td><td>null</td><td>{\"_c11\":\"\",\"_c3\":\"\",\"_c5\":\"\",\"_c10\":\"\",\"_c4\":\"\",\"_c9\":\"\",\"_c8\":\"\",\"_file_path\":\"abfss://raw@storagecarbonproject.dfs.core.windows.net/carbon-emissions-borough.csv\",\"_c7\":\"\",\"_c2\":\"\",\"_c6\":\"\"}</td></tr><tr><td>null</td><td>null</td><td>{\"_c11\":\"\",\"_c3\":\"\",\"_c5\":\"\",\"_c10\":\"\",\"_c4\":\"\",\"_c9\":\"\",\"_c8\":\"\",\"_file_path\":\"abfss://raw@storagecarbonproject.dfs.core.windows.net/carbon-emissions-borough.csv\",\"_c7\":\"\",\"_c2\":\"\",\"_c6\":\"\"}</td></tr></tbody></table></div>"
      ]
     },
     "metadata": {
      "application/vnd.databricks.v1+output": {
       "addedWidgets": {},
       "aggData": [],
       "aggError": "",
       "aggOverflow": false,
       "aggSchema": [],
       "aggSeriesLimitReached": false,
       "aggType": "",
       "arguments": {},
       "columnCustomDisplayInfos": {},
       "data": [
        [
         "ShortName",
         "CO2 Emissions",
         "{\"_c11\":\"\",\"_c3\":\"\",\"_c5\":\"\",\"_c10\":\"\",\"_c4\":\"\",\"_c9\":\"\",\"_c8\":\"\",\"_file_path\":\"abfss://raw@storagecarbonproject.dfs.core.windows.net/carbon-emissions-borough.csv\",\"_c7\":\"\",\"_c2\":\"\",\"_c6\":\"\"}"
        ],
        [
         null,
         null,
         "{\"_c11\":\"\",\"_c3\":\"\",\"_c5\":\"\",\"_c10\":\"\",\"_c4\":\"\",\"_c9\":\"\",\"_c8\":\"\",\"_file_path\":\"abfss://raw@storagecarbonproject.dfs.core.windows.net/carbon-emissions-borough.csv\",\"_c7\":\"\",\"_c2\":\"\",\"_c6\":\"\"}"
        ],
        [
         null,
         null,
         "{\"_c11\":\"\",\"_c3\":\"\",\"_c5\":\"\",\"_c10\":\"\",\"_c4\":\"\",\"_c9\":\"\",\"_c8\":\"\",\"_file_path\":\"abfss://raw@storagecarbonproject.dfs.core.windows.net/carbon-emissions-borough.csv\",\"_c7\":\"\",\"_c2\":\"\",\"_c6\":\"\"}"
        ],
        [
         null,
         null,
         "{\"_c11\":\"\",\"_c3\":\"\",\"_c5\":\"\",\"_c10\":\"\",\"_c4\":\"\",\"_c9\":\"\",\"_c8\":\"\",\"_file_path\":\"abfss://raw@storagecarbonproject.dfs.core.windows.net/carbon-emissions-borough.csv\",\"_c7\":\"\",\"_c2\":\"\",\"_c6\":\"\"}"
        ],
        [
         "Theme",
         "Environment",
         "{\"_c11\":\"\",\"_c3\":\"\",\"_c5\":\"\",\"_c10\":\"\",\"_c4\":\"\",\"_c9\":\"\",\"_c8\":\"\",\"_file_path\":\"abfss://raw@storagecarbonproject.dfs.core.windows.net/carbon-emissions-borough.csv\",\"_c7\":\"\",\"_c2\":\"\",\"_c6\":\"\"}"
        ],
        [
         "Sub-theme",
         "Air",
         "{\"_c11\":\"\",\"_c3\":\"\",\"_c5\":\"\",\"_c10\":\"\",\"_c4\":\"\",\"_c9\":\"\",\"_c8\":\"\",\"_file_path\":\"abfss://raw@storagecarbonproject.dfs.core.windows.net/carbon-emissions-borough.csv\",\"_c7\":\"\",\"_c2\":\"\",\"_c6\":\"\"}"
        ],
        [
         null,
         null,
         "{\"_c11\":\"\",\"_c3\":\"\",\"_c5\":\"\",\"_c10\":\"\",\"_c4\":\"\",\"_c9\":\"\",\"_c8\":\"\",\"_file_path\":\"abfss://raw@storagecarbonproject.dfs.core.windows.net/carbon-emissions-borough.csv\",\"_c7\":\"\",\"_c2\":\"\",\"_c6\":\"\"}"
        ],
        [
         "Title",
         "Carbon Dioxide Emissions",
         "{\"_c11\":\"\",\"_c3\":\"\",\"_c5\":\"\",\"_c10\":\"\",\"_c4\":\"\",\"_c9\":\"\",\"_c8\":\"\",\"_file_path\":\"abfss://raw@storagecarbonproject.dfs.core.windows.net/carbon-emissions-borough.csv\",\"_c7\":\"\",\"_c2\":\"\",\"_c6\":\"\"}"
        ],
        [
         "Description",
         "Local and Regional CO2 Emissions Estimates for 2005-2011 plus, subset data of CO2 emissions within the scope of influence of Local Authorities (previously called National Indicator 186: Per capita CO2 emissions in the LA area) by sector",
         "{\"_c11\":\"\",\"_c3\":\"\",\"_c5\":\"\",\"_c10\":\"\",\"_c4\":\"\",\"_c9\":\"\",\"_c8\":\"\",\"_file_path\":\"abfss://raw@storagecarbonproject.dfs.core.windows.net/carbon-emissions-borough.csv\",\"_c7\":\"\",\"_c2\":\"\",\"_c6\":\"\"}"
        ],
        [
         "Subject",
         "Emissions",
         "{\"_c11\":\"\",\"_c3\":\"\",\"_c5\":\"\",\"_c10\":\"\",\"_c4\":\"\",\"_c9\":\"\",\"_c8\":\"\",\"_file_path\":\"abfss://raw@storagecarbonproject.dfs.core.windows.net/carbon-emissions-borough.csv\",\"_c7\":\"\",\"_c2\":\"\",\"_c6\":\"\"}"
        ],
        [
         "Subject.keyword",
         "Emissions, Carbon Dioxide, Global Warming, climate change, fuel",
         "{\"_c11\":\"\",\"_c3\":\"\",\"_c5\":\"\",\"_c10\":\"\",\"_c4\":\"\",\"_c9\":\"\",\"_c8\":\"\",\"_file_path\":\"abfss://raw@storagecarbonproject.dfs.core.windows.net/carbon-emissions-borough.csv\",\"_c7\":\"\",\"_c2\":\"\",\"_c6\":\"\"}"
        ],
        [
         "Publisher",
         "DECC",
         "{\"_c11\":\"\",\"_c3\":\"\",\"_c5\":\"\",\"_c10\":\"\",\"_c4\":\"\",\"_c9\":\"\",\"_c8\":\"\",\"_file_path\":\"abfss://raw@storagecarbonproject.dfs.core.windows.net/carbon-emissions-borough.csv\",\"_c7\":\"\",\"_c2\":\"\",\"_c6\":\"\"}"
        ],
        [
         "Date.available",
         "2005-2013",
         "{\"_c11\":\"\",\"_c3\":\"\",\"_c5\":\"\",\"_c10\":\"\",\"_c4\":\"\",\"_c9\":\"\",\"_c8\":\"\",\"_file_path\":\"abfss://raw@storagecarbonproject.dfs.core.windows.net/carbon-emissions-borough.csv\",\"_c7\":\"\",\"_c2\":\"\",\"_c6\":\"\"}"
        ],
        [
         "Creator",
         "AEA",
         "{\"_c11\":\"\",\"_c3\":\"\",\"_c5\":\"\",\"_c10\":\"\",\"_c4\":\"\",\"_c9\":\"\",\"_c8\":\"\",\"_file_path\":\"abfss://raw@storagecarbonproject.dfs.core.windows.net/carbon-emissions-borough.csv\",\"_c7\":\"\",\"_c2\":\"\",\"_c6\":\"\"}"
        ],
        [
         "Date.created",
         "Oct 16",
         "{\"_c11\":\"\",\"_c3\":\"\",\"_c5\":\"\",\"_c10\":\"\",\"_c4\":\"\",\"_c9\":\"\",\"_c8\":\"\",\"_file_path\":\"abfss://raw@storagecarbonproject.dfs.core.windows.net/carbon-emissions-borough.csv\",\"_c7\":\"\",\"_c2\":\"\",\"_c6\":\"\"}"
        ],
        [
         "Coverage.spatial",
         "London Boroughs",
         "{\"_c11\":\"\",\"_c3\":\"\",\"_c5\":\"\",\"_c10\":\"\",\"_c4\":\"\",\"_c9\":\"\",\"_c8\":\"\",\"_file_path\":\"abfss://raw@storagecarbonproject.dfs.core.windows.net/carbon-emissions-borough.csv\",\"_c7\":\"\",\"_c2\":\"\",\"_c6\":\"\"}"
        ],
        [
         "Coverage.temporal",
         "Annual",
         "{\"_c11\":\"\",\"_c3\":\"\",\"_c5\":\"\",\"_c10\":\"\",\"_c4\":\"\",\"_c9\":\"\",\"_c8\":\"\",\"_file_path\":\"abfss://raw@storagecarbonproject.dfs.core.windows.net/carbon-emissions-borough.csv\",\"_c7\":\"\",\"_c2\":\"\",\"_c6\":\"\"}"
        ],
        [
         "Type",
         "Survey",
         "{\"_c11\":\"\",\"_c3\":\"\",\"_c5\":\"\",\"_c10\":\"\",\"_c4\":\"\",\"_c9\":\"\",\"_c8\":\"\",\"_file_path\":\"abfss://raw@storagecarbonproject.dfs.core.windows.net/carbon-emissions-borough.csv\",\"_c7\":\"\",\"_c2\":\"\",\"_c6\":\"\"}"
        ],
        [
         "Language",
         "English",
         "{\"_c11\":\"\",\"_c3\":\"\",\"_c5\":\"\",\"_c10\":\"\",\"_c4\":\"\",\"_c9\":\"\",\"_c8\":\"\",\"_file_path\":\"abfss://raw@storagecarbonproject.dfs.core.windows.net/carbon-emissions-borough.csv\",\"_c7\":\"\",\"_c2\":\"\",\"_c6\":\"\"}"
        ],
        [
         "Rights",
         "Crown Copyright",
         "{\"_c11\":\"\",\"_c3\":\"\",\"_c5\":\"\",\"_c10\":\"\",\"_c4\":\"\",\"_c9\":\"\",\"_c8\":\"\",\"_file_path\":\"abfss://raw@storagecarbonproject.dfs.core.windows.net/carbon-emissions-borough.csv\",\"_c7\":\"\",\"_c2\":\"\",\"_c6\":\"\"}"
        ],
        [
         "More info",
         "https://www.gov.uk/government/publications/local-authority-emissions-estimates",
         "{\"_c11\":\"\",\"_c3\":\"\",\"_c5\":\"\",\"_c10\":\"\",\"_c4\":\"\",\"_c9\":\"\",\"_c8\":\"\",\"_file_path\":\"abfss://raw@storagecarbonproject.dfs.core.windows.net/carbon-emissions-borough.csv\",\"_c7\":\"\",\"_c2\":\"\",\"_c6\":\"\"}"
        ],
        [
         "Download from",
         null,
         "{\"_c11\":\"\",\"_c3\":\"\",\"_c5\":\"\",\"_c10\":\"\",\"_c4\":\"\",\"_c9\":\"\",\"_c8\":\"\",\"_file_path\":\"abfss://raw@storagecarbonproject.dfs.core.windows.net/carbon-emissions-borough.csv\",\"_c7\":\"\",\"_c2\":\"\",\"_c6\":\"\"}"
        ],
        [
         "Measure",
         "Kilotonnes of Carbon Dioxide (kt CO2)",
         "{\"_c11\":\"\",\"_c3\":\"\",\"_c5\":\"\",\"_c10\":\"\",\"_c4\":\"\",\"_c9\":\"\",\"_c8\":\"\",\"_file_path\":\"abfss://raw@storagecarbonproject.dfs.core.windows.net/carbon-emissions-borough.csv\",\"_c7\":\"\",\"_c2\":\"\",\"_c6\":\"\"}"
        ],
        [
         "Warnings/Notes",
         "Estimates of total CO2 emissions, and emissions per capita of population, both on an end-user basis.",
         "{\"_c11\":\"\",\"_c3\":\"\",\"_c5\":\"\",\"_c10\":\"\",\"_c4\":\"\",\"_c9\":\"\",\"_c8\":\"\",\"_file_path\":\"abfss://raw@storagecarbonproject.dfs.core.windows.net/carbon-emissions-borough.csv\",\"_c7\":\"\",\"_c2\":\"\",\"_c6\":\"\"}"
        ],
        [
         null,
         "The subset data represents carbon dioxide emissions within the scope of influence of Local Authorities. This dataset was used to report progress against National Indicator 186.  The full dataset includes all the emissions that occur within the boundaries of each local authority; however, the dataset of emissions within the scope of LAs  excludes certain emissions, which it has been considered local authorities are unable to directly influence.",
         "{\"_c11\":\"\",\"_c3\":\"\",\"_c5\":\"\",\"_c10\":\"\",\"_c4\":\"\",\"_c9\":\"\",\"_c8\":\"\",\"_file_path\":\"abfss://raw@storagecarbonproject.dfs.core.windows.net/carbon-emissions-borough.csv\",\"_c7\":\"\",\"_c2\":\"\",\"_c6\":\"\"}"
        ],
        [
         null,
         "All figures (2005-2008) supersede those published in September 2010.",
         "{\"_c11\":\"\",\"_c3\":\"\",\"_c5\":\"\",\"_c10\":\"\",\"_c4\":\"\",\"_c9\":\"\",\"_c8\":\"\",\"_file_path\":\"abfss://raw@storagecarbonproject.dfs.core.windows.net/carbon-emissions-borough.csv\",\"_c7\":\"\",\"_c2\":\"\",\"_c6\":\"\"}"
        ],
        [
         null,
         null,
         "{\"_c11\":\"\",\"_c3\":\"\",\"_c5\":\"\",\"_c10\":\"\",\"_c4\":\"\",\"_c9\":\"\",\"_c8\":\"\",\"_file_path\":\"abfss://raw@storagecarbonproject.dfs.core.windows.net/carbon-emissions-borough.csv\",\"_c7\":\"\",\"_c2\":\"\",\"_c6\":\"\"}"
        ],
        [
         null,
         null,
         "{\"_c11\":\"\",\"_c3\":\"\",\"_c5\":\"\",\"_c10\":\"\",\"_c4\":\"\",\"_c9\":\"\",\"_c8\":\"\",\"_file_path\":\"abfss://raw@storagecarbonproject.dfs.core.windows.net/carbon-emissions-borough.csv\",\"_c7\":\"\",\"_c2\":\"\",\"_c6\":\"\"}"
        ],
        [
         "Next release",
         "Jun 17",
         "{\"_c11\":\"\",\"_c3\":\"\",\"_c5\":\"\",\"_c10\":\"\",\"_c4\":\"\",\"_c9\":\"\",\"_c8\":\"\",\"_file_path\":\"abfss://raw@storagecarbonproject.dfs.core.windows.net/carbon-emissions-borough.csv\",\"_c7\":\"\",\"_c2\":\"\",\"_c6\":\"\"}"
        ],
        [
         null,
         null,
         "{\"_c11\":\"\",\"_c3\":\"\",\"_c5\":\"\",\"_c10\":\"\",\"_c4\":\"\",\"_c9\":\"\",\"_c8\":\"\",\"_file_path\":\"abfss://raw@storagecarbonproject.dfs.core.windows.net/carbon-emissions-borough.csv\",\"_c7\":\"\",\"_c2\":\"\",\"_c6\":\"\"}"
        ],
        [
         null,
         null,
         "{\"_c11\":\"\",\"_c3\":\"\",\"_c5\":\"\",\"_c10\":\"\",\"_c4\":\"\",\"_c9\":\"\",\"_c8\":\"\",\"_file_path\":\"abfss://raw@storagecarbonproject.dfs.core.windows.net/carbon-emissions-borough.csv\",\"_c7\":\"\",\"_c2\":\"\",\"_c6\":\"\"}"
        ],
        [
         null,
         null,
         "{\"_c11\":\"\",\"_c3\":\"\",\"_c5\":\"\",\"_c10\":\"\",\"_c4\":\"\",\"_c9\":\"\",\"_c8\":\"\",\"_file_path\":\"abfss://raw@storagecarbonproject.dfs.core.windows.net/carbon-emissions-borough.csv\",\"_c7\":\"\",\"_c2\":\"\",\"_c6\":\"\"}"
        ],
        [
         null,
         null,
         "{\"_c11\":\"\",\"_c3\":\"\",\"_c5\":\"\",\"_c10\":\"\",\"_c4\":\"\",\"_c9\":\"\",\"_c8\":\"\",\"_file_path\":\"abfss://raw@storagecarbonproject.dfs.core.windows.net/carbon-emissions-borough.csv\",\"_c7\":\"\",\"_c2\":\"\",\"_c6\":\"\"}"
        ]
       ],
       "datasetInfos": [],
       "dbfsResultPath": null,
       "isJsonSchema": true,
       "metadata": {},
       "overflow": false,
       "plotOptions": {
        "customPlotOptions": {},
        "displayType": "table",
        "pivotAggregation": null,
        "pivotColumns": null,
        "xColumns": null,
        "yColumns": null
       },
       "removedWidgets": [],
       "schema": [
        {
         "metadata": "{}",
         "name": "Name",
         "type": "\"string\""
        },
        {
         "metadata": "{}",
         "name": "Carbon Dioxide Emissions",
         "type": "\"string\""
        },
        {
         "metadata": "{}",
         "name": "_rescued_data",
         "type": "\"string\""
        }
       ],
       "type": "table"
      }
     },
     "output_type": "display_data"
    }
   ],
   "source": [
    "display(df)"
   ]
  },
  {
   "cell_type": "code",
   "execution_count": 0,
   "metadata": {
    "application/vnd.databricks.v1+cell": {
     "cellMetadata": {
      "byteLimit": 2048000,
      "rowLimit": 10000
     },
     "inputWidgets": {},
     "nuid": "5df355cd-70cc-4909-a485-bfa17f6c4ba8",
     "showTitle": false,
     "tableResultSettingsMap": {},
     "title": ""
    }
   },
   "outputs": [
    {
     "output_type": "execute_result",
     "data": {
      "text/plain": [
       "<pyspark.sql.streaming.query.StreamingQuery at 0x7fb30c236310>"
      ]
     },
     "execution_count": 23,
     "metadata": {},
     "output_type": "execute_result"
    }
   ],
   "source": [
    "from pyspark.sql.functions import col\n",
    "\n",
    "# Renombro las columnas problematicas, cuando los indices viene con espacios en blanco, ya que no son aceptados. ✅\n",
    "df = df.select([col(c).alias(c.replace(\" \", \"_\")) for c in df.columns])\n",
    "\n",
    "df.writeStream \\\n",
    "    .option(\"checkpointLocation\", checkpoint_location) \\\n",
    "    .trigger(processingTime=\"10 seconds\") \\\n",
    "    .start(\"abfss://bronze@storagecarbonproject.dfs.core.windows.net/carbon-emissions-borough\") # escrito en delta format ✅"
   ]
  }
 ],
 "metadata": {
  "application/vnd.databricks.v1+notebook": {
   "computePreferences": null,
   "dashboards": [],
   "environmentMetadata": {
    "base_environment": "",
    "environment_version": "2"
   },
   "language": "python",
   "notebookMetadata": {
    "mostRecentlyExecutedCommandWithImplicitDF": {
     "commandId": 7073054376193090,
     "dataframes": [
      "_sqldf"
     ]
    },
    "pythonIndentUnit": 4
   },
   "notebookName": "1- Autoloader",
   "widgets": {}
  },
  "language_info": {
   "name": "python"
  }
 },
 "nbformat": 4,
 "nbformat_minor": 0
}